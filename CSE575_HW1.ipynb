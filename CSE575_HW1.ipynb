{
  "cells": [
    {
      "cell_type": "markdown",
      "metadata": {
        "id": "view-in-github",
        "colab_type": "text"
      },
      "source": [
        "<a href=\"https://colab.research.google.com/github/jgorthi/Linear-Regression-from-scratch/blob/main/CSE575_HW1.ipynb\" target=\"_parent\"><img src=\"https://colab.research.google.com/assets/colab-badge.svg\" alt=\"Open In Colab\"/></a>"
      ]
    },
    {
      "cell_type": "markdown",
      "id": "0201eef8",
      "metadata": {
        "id": "0201eef8"
      },
      "source": [
        "# Linear regression [10 pts]\n",
        "\n",
        "In this homework, you will implement solution algorithms for linear regression.\n",
        "\n",
        "\n",
        "## Import libraries\n",
        "Let's begin by importing some libraries. "
      ]
    },
    {
      "cell_type": "code",
      "execution_count": null,
      "id": "5e93db53",
      "metadata": {
        "id": "5e93db53",
        "outputId": "dbb96bb0-3742-42d4-b6f0-bd9358067ca5",
        "colab": {
          "base_uri": "https://localhost:8080/"
        }
      },
      "outputs": [
        {
          "output_type": "stream",
          "name": "stdout",
          "text": [
            "Automatically created module for IPython interactive environment\n"
          ]
        }
      ],
      "source": [
        "print(__doc__)\n",
        "import matplotlib.pyplot as plt\n",
        "import numpy as np\n",
        "from sklearn import datasets\n",
        "%matplotlib inline"
      ]
    },
    {
      "cell_type": "markdown",
      "id": "3b7f958f",
      "metadata": {
        "id": "3b7f958f"
      },
      "source": [
        "## Load dataset\n",
        "\n",
        "Now, we are importing a dataset of diabetes. You can check the details on this dataset here: https://scikit-learn.org/stable/datasets/toy_dataset.html#diabetes-dataset. \n",
        "\n",
        "The dataset consists of 442 observations with 10 attributes ($X$) that may affect the progression of diabetes ($y$). Ten baseline variables, age, sex, body mass index, average blood pressure, and six blood serum measurements were obtained for each of $n$ = 442 diabetes patients, as well as the response of interest, a quantitative measure of disease progression one year after baseline."
      ]
    },
    {
      "cell_type": "code",
      "execution_count": null,
      "id": "45b7be6c",
      "metadata": {
        "id": "45b7be6c",
        "outputId": "c1fe7699-3833-43e8-c254-a7e19acf415d",
        "colab": {
          "base_uri": "https://localhost:8080/"
        }
      },
      "outputs": [
        {
          "output_type": "stream",
          "name": "stdout",
          "text": [
            "The shape of the input features: (442, 10)\n",
            "The shape of the output varaible: (442,)\n"
          ]
        }
      ],
      "source": [
        "# Load the diabetes dataset\n",
        "diabetes_X, diabetes_y = datasets.load_diabetes(return_X_y=True)\n",
        "print('The shape of the input features:',diabetes_X.shape)\n",
        "print('The shape of the output varaible:',diabetes_y.shape)"
      ]
    },
    {
      "cell_type": "markdown",
      "id": "33d43652",
      "metadata": {
        "id": "33d43652"
      },
      "source": [
        "We will choose just one attribute from the ten attributes as an input variable."
      ]
    },
    {
      "cell_type": "code",
      "execution_count": null,
      "id": "333d01d6",
      "metadata": {
        "id": "333d01d6",
        "outputId": "25fc79a3-2233-48c4-9fbf-0272ae130dc5",
        "colab": {
          "base_uri": "https://localhost:8080/"
        }
      },
      "outputs": [
        {
          "output_type": "stream",
          "name": "stdout",
          "text": [
            "(442, 1)\n"
          ]
        }
      ],
      "source": [
        "# Use only one feature\n",
        "diabetes_X_one = diabetes_X[:, np.newaxis, 2]\n",
        "print(diabetes_X_one.shape)"
      ]
    },
    {
      "cell_type": "markdown",
      "id": "2d5d51ee",
      "metadata": {
        "id": "2d5d51ee"
      },
      "source": [
        "## Dataset split\n",
        "\n",
        "Now, we split the dataset into two parts: training set and test set. \n",
        "\n",
        "- training set: 422 samples\n",
        "- test set: 20 samples "
      ]
    },
    {
      "cell_type": "code",
      "execution_count": null,
      "id": "3b1cadcc",
      "metadata": {
        "id": "3b1cadcc",
        "outputId": "411b5652-8033-4272-fdc7-462de4cb8858",
        "colab": {
          "base_uri": "https://localhost:8080/"
        }
      },
      "outputs": [
        {
          "output_type": "stream",
          "name": "stdout",
          "text": [
            "Training input variable shape: (422, 1)\n",
            "Test input variable shape: (20, 1)\n"
          ]
        }
      ],
      "source": [
        "# Split the data into training/testing sets\n",
        "diabetes_X_train = diabetes_X_one[:-20]\n",
        "diabetes_X_test = diabetes_X_one[-20:]\n",
        "\n",
        "# Split the targets into training/testing sets\n",
        "diabetes_y_train = diabetes_y[:-20]\n",
        "diabetes_y_test = diabetes_y[-20:]\n",
        "\n",
        "print('Training input variable shape:', diabetes_X_train.shape)\n",
        "print('Test input variable shape:', diabetes_X_test.shape)"
      ]
    },
    {
      "cell_type": "markdown",
      "id": "69db6e06",
      "metadata": {
        "id": "69db6e06"
      },
      "source": [
        "## Linear regression \n",
        "\n",
        "Assume that we have a hypothesis $$ h_{\\theta}(x) = \\theta_0 + \\theta_1 x. $$\n",
        "\n",
        "Your tasks: \n",
        "\n",
        "- [4pts] implement your own version of the method of least-squares, compute and report $\\theta_0$ and $\\theta_1$ that minimize the residual sum of squares, \n",
        "$$ \\sum_{i=1}^{N} \\frac{1}{2}( y^{(i)} - h_{\\theta}(x^{(i)})^2$$\n",
        "\n",
        "- [4pts] implement your own version of the gradient descent algorithm, compute and report $\\theta_0$ and $\\theta_1$ that minimize the mean squared error $$ \\sum_{i=1}^{N} \\frac{1}{N}( y^{(i)} - h_{\\theta}(x^{(i)})^2$$\n",
        "\n",
        "- [2pts] derive the analytical expression of the gradient if the loss is defined as \n",
        "$$ \\sum_{i=1}^{N} \\frac{1}{2}( y^{(i)} - h_{\\theta}(x^{(i)})^2 + \\frac{\\lambda}{2} \\| \\theta \\|_2^2, $$\n",
        "where $\\theta = [\\theta_0, \\theta_1]^{\\intercal}$\n",
        "\n",
        "To check whether your computation is correct, consider using an API such as Scikit learn linearregression."
      ]
    },
    {
      "cell_type": "code",
      "execution_count": null,
      "id": "4784ff6a",
      "metadata": {
        "id": "4784ff6a"
      },
      "outputs": [],
      "source": [
        "def rss(_theta0, _theta1):\n",
        "    _sum = 0\n",
        "    for i in range(0,len(diabetes_X_train)):\n",
        "        _sum = _sum + ((diabetes_y_train[i].astype(float)) - _theta0 - (_theta1*(diabetes_X_train[i].astype(float)[0])))**2\n",
        "    _sum = _sum/2\n",
        "    return _sum"
      ]
    },
    {
      "cell_type": "code",
      "source": [
        "plt.scatter(diabetes_X_train,diabetes_y_train)\n",
        "#plt.show()\n",
        "print(diabetes_X_train[0])\n",
        "diabetes_X_train_O = np.c_[np.ones((422, 1)), diabetes_X_train]\n",
        "#print(diabetes_X_train[0:5])\n",
        "#print(diabetes_X_train.shape)"
      ],
      "metadata": {
        "colab": {
          "base_uri": "https://localhost:8080/",
          "height": 282
        },
        "id": "7aS5D46tlgPH",
        "outputId": "6475ff87-1d82-4b00-d20a-ae79c20f4777"
      },
      "id": "7aS5D46tlgPH",
      "execution_count": null,
      "outputs": [
        {
          "output_type": "stream",
          "name": "stdout",
          "text": [
            "[0.06169621]\n"
          ]
        },
        {
          "output_type": "display_data",
          "data": {
            "image/png": "[encoded data removed]",
            "text/plain": [
              "<Figure size 432x288 with 1 Axes>"
            ]
          },
          "metadata": {
            "needs_background": "light"
          }
        }
      ]
    },
    {
      "cell_type": "code",
      "source": [
        "_theta = np.linalg.inv(diabetes_X_train_O.transpose().dot(diabetes_X_train_O)).dot(diabetes_X_train_O.transpose()).dot(diabetes_y_train)\n",
        "print(\" ---- Least Squares Method -------\")\n",
        "print(\"Theta is \", _theta)\n",
        "least_squares_theta = _theta"
      ],
      "metadata": {
        "colab": {
          "base_uri": "https://localhost:8080/"
        },
        "id": "rhLxpFfQiBqi",
        "outputId": "734bcb43-7d46-4f22-a18e-1d44f02f2eec"
      },
      "id": "rhLxpFfQiBqi",
      "execution_count": null,
      "outputs": [
        {
          "output_type": "stream",
          "name": "stdout",
          "text": [
            " ---- Least Squares Method -------\n",
            "Theta is  [152.91886183 938.23786125]\n"
          ]
        }
      ]
    },
    {
      "cell_type": "code",
      "source": [
        "#print(diabetes_y_train[0:10])\n",
        "#print(diabetes_X_train[0:10])"
      ],
      "metadata": {
        "id": "utLfmFTOr2kw"
      },
      "id": "utLfmFTOr2kw",
      "execution_count": null,
      "outputs": []
    },
    {
      "cell_type": "code",
      "source": [
        "import sys\n",
        "def gradient(_theta0 = 1, _theta1 = 1, N = 0.1, iterations = 20000):\n",
        "    _cost = sys.maxsize\n",
        "    print(\" ---- Gradient Descent Method -------\")\n",
        "    for i in range(iterations):\n",
        "        _temp0 = 0\n",
        "        _temp1 = 0\n",
        "        for j in range(len(diabetes_X_train)):\n",
        "            _temp = (diabetes_y_train[j].astype(float) - _theta0 - (_theta1 * diabetes_X_train[j].astype(float)[0]))\n",
        "            _temp0 = _temp0 + _temp\n",
        "            _temp1 = _temp1 + (_temp * diabetes_X_train[j].astype(float)[0])\n",
        "        _temp0 = N*2*_temp0/len(diabetes_X_train)\n",
        "        _temp1 = N*2*_temp1/len(diabetes_X_train)\n",
        "        _theta0 = _theta0 + _temp0\n",
        "        _theta1 = _theta1 + _temp1\n",
        "        _cost = rss(_theta0, _theta1)\n",
        "        if i % 1000 == 0:print(\"At iteration\", i,\"Cost is\",_cost, \"Theta0 is\" , _theta0, \"Theta1 is\" , _theta1)\n",
        "    return (_theta0, _theta1)\n",
        "_theta_grad = gradient()\n",
        "print(\"Finished gradient\")"
      ],
      "metadata": {
        "colab": {
          "base_uri": "https://localhost:8080/"
        },
        "id": "BfEcrKD5TMmS",
        "outputId": "8e0488d9-9172-4003-899e-d72162428680"
      },
      "id": "BfEcrKD5TMmS",
      "execution_count": null,
      "outputs": [
        {
          "output_type": "stream",
          "name": "stdout",
          "text": [
            " ---- Gradient Descent Method -------\n",
            "At iteration 0 Cost is 4388695.152737045 Theta0 is 31.472417267332766 Theta1 is 1.4389143636518207\n",
            "At iteration 1000 Cost is 1003952.2537829212 Theta0 is 153.2011082022458 Theta1 is 342.754284765615\n",
            "At iteration 2000 Cost is 902982.9456925979 Theta0 is 153.09828500755359 Theta1 is 559.6907236687623\n",
            "At iteration 3000 Cost is 862180.1672467453 Theta0 is 153.03292060866025 Theta1 is 697.5965723384717\n",
            "At iteration 4000 Cost is 845691.3276142889 Theta0 is 152.9913686547896 Theta1 is 785.2629099693012\n",
            "At iteration 5000 Cost is 839028.0109780057 Theta0 is 152.9649542013608 Theta1 is 840.9921399311825\n",
            "At iteration 6000 Cost is 836335.2933832534 Theta0 is 152.94816261191795 Theta1 is 876.4190455836418\n",
            "At iteration 7000 Cost is 835247.1373731338 Theta0 is 152.93748824847617 Theta1 is 898.9398240865345\n",
            "At iteration 8000 Cost is 834807.4018789025 Theta0 is 152.93070258740008 Theta1 is 913.2562159654044\n",
            "At iteration 9000 Cost is 834629.7000575737 Theta0 is 152.9263889628462 Theta1 is 922.3571036812984\n",
            "At iteration 10000 Cost is 834557.8888489773 Theta0 is 152.92364680455344 Theta1 is 928.1425109206438\n",
            "At iteration 11000 Cost is 834528.8691707242 Theta0 is 152.92190362268659 Theta1 is 931.8202770869731\n",
            "At iteration 12000 Cost is 834517.1420080372 Theta0 is 152.92079548716106 Theta1 is 934.1582220949247\n",
            "At iteration 13000 Cost is 834512.4029360354 Theta0 is 152.92009104870496 Theta1 is 935.6444467794227\n",
            "At iteration 14000 Cost is 834510.4878262999 Theta0 is 152.91964323927462 Theta1 is 936.5892353887757\n",
            "At iteration 15000 Cost is 834509.7139099528 Theta0 is 152.91935856815232 Theta1 is 937.1898346963205\n",
            "At iteration 16000 Cost is 834509.4011620696 Theta0 is 152.91917760356696 Theta1 is 937.5716338889118\n",
            "At iteration 17000 Cost is 834509.2747773025 Theta0 is 152.91906256491856 Theta1 is 937.8143424995197\n",
            "At iteration 18000 Cost is 834509.2237038645 Theta0 is 152.91898943519212 Theta1 is 937.9686316410504\n",
            "At iteration 19000 Cost is 834509.2030645409 Theta0 is 152.9189429468426 Theta1 is 938.0667127892006\n",
            "Finished gradient\n"
          ]
        }
      ]
    },
    {
      "cell_type": "code",
      "source": [
        "def ridge(_theta0 = 1, _theta1 = 1, N = 0.1, iterations = 35000, _lambda = 0.00001):\n",
        "    _cost = sys.maxsize\n",
        "    print(\" ---- Ridge Regression Method -------\")\n",
        "    print(\"For lambda\" ,_lambda)\n",
        "    for i in range(iterations):\n",
        "        _temp0 = 0\n",
        "        _temp1 = 0\n",
        "        for j in range(len(diabetes_X_train)):\n",
        "            _temp = (diabetes_y_train[j].astype(float) - _theta0 - (_theta1*diabetes_X_train[j].astype(float)[0]))\n",
        "            _temp0 = _temp0 + _temp\n",
        "            _temp1 = _temp1 + (_temp * diabetes_X_train[j].astype(float)[0])\n",
        "        _temp0 = N*_temp0/len(diabetes_X_train) - (_lambda*_theta0)\n",
        "        _temp1 = N*_temp1/len(diabetes_X_train) - (_lambda*_theta1)\n",
        "        _theta0 = _theta0 + _temp0\n",
        "        _theta1 = _theta1 + _temp1\n",
        "        _cost =  rss(_theta0, _theta1)\n",
        "        if i % 1000 == 0:print(\"At iteration\", i,\"Cost is\",_cost, \"Theta0 is\" , _theta0, \"Theta1 is\" , _theta1)\n",
        "    return (_theta0, _theta1)\n",
        "_theta_rid = ridge()"
      ],
      "metadata": {
        "id": "HcnRDFw1sbn2",
        "colab": {
          "base_uri": "https://localhost:8080/"
        },
        "outputId": "2b5e356d-143c-4973-e01a-68e13feb37fe"
      },
      "id": "HcnRDFw1sbn2",
      "execution_count": null,
      "outputs": [
        {
          "output_type": "stream",
          "name": "stdout",
          "text": [
            " ---- Ridge Regression Method -------\n",
            "For lambda 1e-05\n",
            "At iteration 0 Cost is 5221590.457071662 Theta0 is 16.236198633666383 Theta1 is 1.2194471818259103\n",
            "At iteration 1000 Cost is 1101848.3847207578 Theta0 is 153.2580527348359 Theta1 is 190.2592631681451\n",
            "At iteration 2000 Cost is 1005846.9326561023 Theta0 is 153.1873469697254 Theta1 is 339.43432954206315\n",
            "At iteration 3000 Cost is 945084.3815199531 Theta0 is 153.13153246094726 Theta1 is 457.19181421956375\n",
            "At iteration 4000 Cost is 906478.5918003682 Theta0 is 153.087472978877 Theta1 is 550.148536375891\n",
            "At iteration 5000 Cost is 881835.868756919 Theta0 is 153.0526928114476 Theta1 is 623.5277548409684\n",
            "At iteration 6000 Cost is 866017.4802028892 Theta0 is 153.02523765333902 Theta1 is 681.4526641712526\n",
            "At iteration 7000 Cost is 855795.2930985781 Theta0 is 153.00356479312936 Theta1 is 727.1780778661207\n",
            "At iteration 8000 Cost is 849137.2162331702 Theta0 is 152.98645642799772 Theta1 is 763.2733170601088\n",
            "At iteration 9000 Cost is 844760.7791992563 Theta0 is 152.9729512351139 Theta1 is 791.766581247187\n",
            "At iteration 10000 Cost is 841854.0402110651 Theta0 is 152.96229035469503 Theta1 is 814.2589132600413\n",
            "At iteration 11000 Cost is 839900.9546302017 Theta0 is 152.95387474950653 Theta1 is 832.0141622218607\n",
            "At iteration 12000 Cost is 838571.9882778885 Theta0 is 152.94723154482676 Theta1 is 846.0299995088101\n",
            "At iteration 13000 Cost is 837655.5067194047 Theta0 is 152.94198745751174 Theta1 is 857.0939781258751\n",
            "At iteration 14000 Cost is 837014.6679070051 Theta0 is 152.93784782113246 Theta1 is 865.8277854848449\n",
            "At iteration 15000 Cost is 836560.2813716988 Theta0 is 152.93458002860285 Theta1 is 872.7221761578286\n",
            "At iteration 16000 Cost is 836233.6755363441 Theta0 is 152.93200046193604 Theta1 is 878.1645474854868\n",
            "At iteration 17000 Cost is 835995.8478512971 Theta0 is 152.92996417470903 Theta1 is 882.4607075194921\n",
            "At iteration 18000 Cost is 835820.5666082001 Theta0 is 152.92835674749108 Theta1 is 885.852058444779\n",
            "At iteration 19000 Cost is 835689.9640958133 Theta0 is 152.9270878585904 Theta1 is 888.5291610218187\n",
            "At iteration 20000 Cost is 835591.7050198533 Theta0 is 152.92608620885815 Theta1 is 890.642442238038\n",
            "At iteration 21000 Cost is 835517.1545387522 Theta0 is 152.9252955153739 Theta1 is 892.3106478335674\n",
            "At iteration 22000 Cost is 835460.1834141522 Theta0 is 152.92467134889543 Theta1 is 893.6275146507181\n",
            "At iteration 23000 Cost is 835416.381393805 Theta0 is 152.92417863736986 Theta1 is 894.6670377279498\n",
            "At iteration 24000 Cost is 835382.5338380433 Theta0 is 152.9237896952274 Theta1 is 895.4876280974694\n",
            "At iteration 25000 Cost is 835356.2693761564 Theta0 is 152.92348266772274 Theta1 is 896.1353949140962\n",
            "At iteration 26000 Cost is 835335.8196579851 Theta0 is 152.92324030291238 Theta1 is 896.6467363388931\n",
            "At iteration 27000 Cost is 835319.8533137707 Theta0 is 152.92304898226385 Theta1 is 897.0503847598972\n",
            "At iteration 28000 Cost is 835307.3595957177 Theta0 is 152.92289795542752 Theta1 is 897.3690212713947\n",
            "At iteration 29000 Cost is 835297.5656933897 Theta0 is 152.9227787361719 Theta1 is 897.6205501296164\n",
            "At iteration 30000 Cost is 835289.8771759839 Theta0 is 152.92268462554068 Theta1 is 897.8191047968835\n",
            "At iteration 31000 Cost is 835283.8345378254 Theta0 is 152.9226103354365 Theta1 is 897.9758421039699\n",
            "At iteration 32000 Cost is 835279.0811140419 Theta0 is 152.922551691482 Theta1 is 898.09956915492\n",
            "At iteration 33000 Cost is 835275.339135773 Theta0 is 152.9225053984604 Theta1 is 898.1972382001635\n",
            "At iteration 34000 Cost is 835272.3916897187 Theta0 is 152.9224688551565 Theta1 is 898.2743372850028\n"
          ]
        }
      ]
    },
    {
      "cell_type": "code",
      "source": [
        "from sklearn.linear_model import LinearRegression\n",
        "regressor = LinearRegression()\n",
        "regressor.fit(diabetes_X_train,diabetes_y_train)\n",
        "print(regressor.intercept_)\n",
        "print(regressor.coef_)\n",
        "print(\"Theta from Sklearn\",(regressor.intercept_,regressor.coef_[0]))\n",
        "print(\"Theta from Least Squares Method\",least_squares_theta)\n",
        "print(\"Theta from Gradient Descent Method\",_theta_grad)\n",
        "print(\"Theta from Ridge Regression Method\",_theta_rid)"
      ],
      "metadata": {
        "colab": {
          "base_uri": "https://localhost:8080/"
        },
        "id": "wcYic8gvgfI2",
        "outputId": "2a280f3c-f478-4cf4-f5e4-78c53afe9949"
      },
      "id": "wcYic8gvgfI2",
      "execution_count": null,
      "outputs": [
        {
          "output_type": "stream",
          "name": "stdout",
          "text": [
            "152.91886182616167\n",
            "[938.23786125]\n",
            "Theta from Sklearn (152.91886182616167, 938.2378612512637)\n",
            "Theta from Least Squares Method [152.91886183 938.23786125]\n",
            "Theta from Gradient Descent Method (152.91891341770454, 938.1290133826878)\n",
            "Theta from Ridge Regression Method (152.92244003376723, 898.3351446696498)\n"
          ]
        }
      ]
    }
  ],
  "metadata": {
    "kernelspec": {
      "display_name": "Python 3",
      "language": "python",
      "name": "python3"
    },
    "language_info": {
      "codemirror_mode": {
        "name": "ipython",
        "version": 3
      },
      "file_extension": ".py",
      "mimetype": "text/x-python",
      "name": "python",
      "nbconvert_exporter": "python",
      "pygments_lexer": "ipython3",
      "version": "3.6.5"
    },
    "colab": {
      "name": "CSE575_HW1.ipynb",
      "provenance": [],
      "collapsed_sections": [],
      "include_colab_link": true
    }
  },
  "nbformat": 4,
  "nbformat_minor": 5
}